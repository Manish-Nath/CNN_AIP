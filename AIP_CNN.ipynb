{
  "cells": [
    {
      "cell_type": "code",
      "execution_count": null,
      "metadata": {
        "colab": {
          "base_uri": "https://localhost:8080/"
        },
        "id": "Ei1SGkdf8UXY",
        "outputId": "485402a6-f43a-40fd-91df-93a938a0ecc0"
      },
      "outputs": [
        {
          "output_type": "stream",
          "name": "stdout",
          "text": [
            "Mounted at /content/drive\n"
          ]
        }
      ],
      "source": [
        "from google.colab import drive\n",
        "drive.mount('/content/drive')\n",
        "\n",
        "\n"
      ]
    },
    {
      "cell_type": "code",
      "execution_count": null,
      "metadata": {
        "colab": {
          "base_uri": "https://localhost:8080/"
        },
        "id": "Hv4GrQEJqWDv",
        "outputId": "2ebb962f-10e3-434d-8a8c-f5c96f7ecaa8"
      },
      "outputs": [
        {
          "output_type": "stream",
          "name": "stdout",
          "text": [
            "/content/drive/MyDrive/ColabNotebooks\n"
          ]
        }
      ],
      "source": [
        "%cd /content/drive/MyDrive/ColabNotebooks\n"
      ]
    },
    {
      "cell_type": "markdown",
      "source": [
        "**Preprocessing Data**"
      ],
      "metadata": {
        "id": "yT-erzUf8O-j"
      }
    },
    {
      "cell_type": "code",
      "execution_count": null,
      "metadata": {
        "id": "rQLVDmsB604s"
      },
      "outputs": [],
      "source": [
        "import numpy as np\n",
        "\n",
        "def unpickle(file):\n",
        "    import pickle\n",
        "    with open(file, 'rb') as fo:\n",
        "        dict = pickle.load(fo, encoding='bytes')\n",
        "    return dict\n",
        "\n",
        "import numpy as np\n",
        "import tensorflow as tf\n",
        "from tensorflow import keras\n",
        "from tensorflow.keras import layers, models, datasets\n",
        "\n",
        "\n",
        "cifar_data_1=unpickle('data_batch_1')\n",
        "cifar_data_2=unpickle('data_batch_2')\n",
        "cifar_data_3=unpickle('data_batch_3')\n",
        "cifar_data_4=unpickle('test_batch')\n",
        "\n",
        "\n",
        "\n",
        "# Access image data\n",
        "data_images_1 = cifar_data_1[b'data']\n",
        "data_labels_1 = cifar_data_1[b'labels']\n",
        "data_labels_1=np.array(data_labels_1)\n",
        "\n",
        "\n",
        "\n",
        "# Access image data\n",
        "data_images_2= cifar_data_2[b'data']\n",
        "data_labels_2 = cifar_data_2[b'labels']\n",
        "data_labels_2=np.array(data_labels_2)\n",
        "\n",
        "\n",
        "\n",
        "# Access image data\n",
        "data_images_3= cifar_data_3[b'data']\n",
        "data_labels_3 = cifar_data_3[b'labels']\n",
        "data_labels_3=np.array(data_labels_3)\n",
        "\n",
        "\n",
        "\n",
        "test_images= cifar_data_3[b'data']\n",
        "test_labels = cifar_data_3[b'labels']\n",
        "test_labels=np.array(test_labels)\n",
        "\n",
        "\n",
        "# Concatenate the image data along the first axis (axis=0)\n",
        "train_images = np.concatenate((data_images_1, data_images_2, data_images_3), axis=0)\n",
        "train_labels = np.concatenate((data_labels_1, data_labels_2, data_labels_3), axis=0)\n",
        "\n",
        "train_images, test_images = train_images / 255.0, test_images / 255.0\n",
        "\n",
        "train_images=train_images.reshape((30000, 3, 32, 32)).transpose(0,2, 3, 1)\n",
        "test_images =test_images.reshape((10000, 3, 32, 32)).transpose(0,2, 3, 1)\n"
      ]
    },
    {
      "cell_type": "code",
      "execution_count": null,
      "metadata": {
        "colab": {
          "base_uri": "https://localhost:8080/",
          "height": 448
        },
        "id": "O8SUUSWL9eMS",
        "outputId": "9fb58a24-9776-4fe8-e9ea-b3c3e30718d8"
      },
      "outputs": [
        {
          "output_type": "display_data",
          "data": {
            "text/plain": [
              "<Figure size 640x480 with 1 Axes>"
            ],
            "image/png": "[encoded data removed]"
          },
          "metadata": {}
        },
        {
          "output_type": "stream",
          "name": "stdout",
          "text": [
            "4\n"
          ]
        }
      ],
      "source": [
        "import matplotlib.pyplot as plt\n",
        "image=train_images[58]\n",
        "import matplotlib.pyplot as plt\n",
        "plt.imshow(image)\n",
        "plt.show()\n",
        "print(train_labels[58])\n"
      ]
    },
    {
      "cell_type": "markdown",
      "source": [
        "# **Relu Activation Model**\n",
        "\n",
        "\n"
      ],
      "metadata": {
        "id": "qs-_0nki8UMu"
      }
    },
    {
      "cell_type": "code",
      "execution_count": null,
      "metadata": {
        "colab": {
          "base_uri": "https://localhost:8080/"
        },
        "id": "USZ6b1QH64AD",
        "outputId": "63d3b214-2b42-4571-c5c4-7d668cb0c338"
      },
      "outputs": [
        {
          "output_type": "stream",
          "name": "stdout",
          "text": [
            "Model: \"sequential\"\n",
            "_________________________________________________________________\n",
            " Layer (type)                Output Shape              Param #   \n",
            "=================================================================\n",
            " conv2d (Conv2D)             (None, 30, 30, 32)        896       \n",
            "                                                                 \n",
            " max_pooling2d (MaxPooling2  (None, 15, 15, 32)        0         \n",
            " D)                                                              \n",
            "                                                                 \n",
            " conv2d_1 (Conv2D)           (None, 13, 13, 64)        18496     \n",
            "                                                                 \n",
            " max_pooling2d_1 (MaxPoolin  (None, 6, 6, 64)          0         \n",
            " g2D)                                                            \n",
            "                                                                 \n",
            " conv2d_2 (Conv2D)           (None, 4, 4, 128)         73856     \n",
            "                                                                 \n",
            " max_pooling2d_2 (MaxPoolin  (None, 2, 2, 128)         0         \n",
            " g2D)                                                            \n",
            "                                                                 \n",
            " flatten (Flatten)           (None, 512)               0         \n",
            "                                                                 \n",
            " dense (Dense)               (None, 64)                32832     \n",
            "                                                                 \n",
            " dense_1 (Dense)             (None, 10)                650       \n",
            "                                                                 \n",
            "=================================================================\n",
            "Total params: 126730 (495.04 KB)\n",
            "Trainable params: 126730 (495.04 KB)\n",
            "Non-trainable params: 0 (0.00 Byte)\n",
            "_________________________________________________________________\n",
            "Epoch 1/10\n",
            "938/938 [==============================] - 12s 7ms/step - loss: 1.6922 - accuracy: 0.3771\n",
            "Epoch 2/10\n",
            "938/938 [==============================] - 4s 4ms/step - loss: 1.3264 - accuracy: 0.5228\n",
            "Epoch 3/10\n",
            "938/938 [==============================] - 4s 5ms/step - loss: 1.1561 - accuracy: 0.5926\n",
            "Epoch 4/10\n",
            "938/938 [==============================] - 4s 4ms/step - loss: 1.0340 - accuracy: 0.6351\n",
            "Epoch 5/10\n",
            "938/938 [==============================] - 4s 4ms/step - loss: 0.9484 - accuracy: 0.6661\n",
            "Epoch 6/10\n",
            "938/938 [==============================] - 4s 4ms/step - loss: 0.8742 - accuracy: 0.6922\n",
            "Epoch 7/10\n",
            "938/938 [==============================] - 4s 4ms/step - loss: 0.8076 - accuracy: 0.7170\n",
            "Epoch 8/10\n",
            "938/938 [==============================] - 4s 4ms/step - loss: 0.7464 - accuracy: 0.7403\n",
            "Epoch 9/10\n",
            "938/938 [==============================] - 4s 4ms/step - loss: 0.6906 - accuracy: 0.7561\n",
            "Epoch 10/10\n",
            "938/938 [==============================] - 4s 4ms/step - loss: 0.6437 - accuracy: 0.7730\n"
          ]
        },
        {
          "output_type": "execute_result",
          "data": {
            "text/plain": [
              "<keras.src.callbacks.History at 0x7f9b50f8f970>"
            ]
          },
          "metadata": {},
          "execution_count": 5
        }
      ],
      "source": [
        "\n",
        "import numpy as np\n",
        "import tensorflow as tf\n",
        "from tensorflow import keras\n",
        "from tensorflow.keras import layers, models, datasets\n",
        "\n",
        "\n",
        "\n",
        "relu_model = models.Sequential()\n",
        "\n",
        "relu_model.add(layers.Conv2D(32, kernel_size=(3, 3), activation=\"relu\", input_shape=(32, 32, 3)))\n",
        "relu_model.add(layers.MaxPooling2D(pool_size=(2, 2)))\n",
        "\n",
        "relu_model.add(layers.Conv2D(64, kernel_size=(3, 3), activation=\"relu\"))\n",
        "relu_model.add(layers.MaxPooling2D(pool_size=(2, 2)))\n",
        "\n",
        "relu_model.add(layers.Conv2D(128, kernel_size=(3, 3), activation=\"relu\"))\n",
        "relu_model.add(layers.MaxPooling2D(pool_size=(2, 2)))\n",
        "\n",
        "relu_model.add(layers.Flatten())\n",
        "\n",
        "relu_model.add(layers.Dense(64, activation=\"relu\"))\n",
        "relu_model.add(layers.Dense(10, activation=\"softmax\"))\n",
        "\n",
        "relu_model.compile(loss=\"sparse_categorical_crossentropy\", optimizer=\"adam\", metrics=[\"accuracy\"])\n",
        "\n",
        "relu_model.summary()\n",
        "\n",
        "relu_model.fit(train_images, train_labels, epochs=10, batch_size=32)\n",
        "\n",
        "\n"
      ]
    },
    {
      "cell_type": "markdown",
      "source": [
        "# **Accuracy on Relu  dataset**"
      ],
      "metadata": {
        "id": "0znOW-8G8ZP7"
      }
    },
    {
      "cell_type": "code",
      "execution_count": null,
      "metadata": {
        "colab": {
          "base_uri": "https://localhost:8080/"
        },
        "id": "aVQw1xfqoxdU",
        "outputId": "d9fbf847-337d-49df-c893-666997bad599"
      },
      "outputs": [
        {
          "output_type": "stream",
          "name": "stdout",
          "text": [
            "313/313 [==============================] - 1s 2ms/step - loss: 0.5873 - accuracy: 0.7921\n",
            "Test accuracy of RELU ACTIVATION MODEL: 0.7921\n"
          ]
        }
      ],
      "source": [
        "\n",
        "test_loss, test_acc = relu_model.evaluate(test_images, test_labels)\n",
        "print(f\"Test accuracy of RELU ACTIVATION MODEL: {test_acc:.4f}\")\n"
      ]
    },
    {
      "cell_type": "markdown",
      "source": [
        "# **Sigmoid Activation Model**\n",
        "\n"
      ],
      "metadata": {
        "id": "S5t34V6U8m4j"
      }
    },
    {
      "cell_type": "code",
      "source": [
        "\n",
        "\n",
        "sigmoid_model = models.Sequential()\n",
        "\n",
        "sigmoid_model.add(layers.Conv2D(32, kernel_size=(3, 3), activation=\"sigmoid\", input_shape=(32, 32, 3)))\n",
        "sigmoid_model.add(layers.MaxPooling2D(pool_size=(2, 2)))\n",
        "\n",
        "sigmoid_model.add(layers.Conv2D(64, kernel_size=(3, 3), activation=\"sigmoid\"))\n",
        "sigmoid_model.add(layers.MaxPooling2D(pool_size=(2, 2)))\n",
        "\n",
        "sigmoid_model.add(layers.Conv2D(128, kernel_size=(3, 3), activation=\"sigmoid\"))\n",
        "sigmoid_model.add(layers.MaxPooling2D(pool_size=(2, 2)))\n",
        "\n",
        "sigmoid_model.add(layers.Flatten())\n",
        "\n",
        "\n",
        "sigmoid_model.add(layers.Dense(64, activation=\"sigmoid\"))\n",
        "sigmoid_model.add(layers.Dense(10, activation=\"softmax\"))\n",
        "\n",
        "sigmoid_model.compile(loss=\"sparse_categorical_crossentropy\", optimizer=\"adam\", metrics=[\"accuracy\"])\n",
        "\n",
        "sigmoid_model.summary()\n",
        "\n",
        "sigmoid_model.fit(train_images, train_labels, epochs=10, batch_size=32)\n",
        "\n",
        "\n",
        "\n"
      ],
      "metadata": {
        "colab": {
          "base_uri": "https://localhost:8080/"
        },
        "id": "OcTZck7N7w43",
        "outputId": "670bdff0-77d7-44f1-c36b-531b0b938b7b"
      },
      "execution_count": null,
      "outputs": [
        {
          "output_type": "stream",
          "name": "stdout",
          "text": [
            "Model: \"sequential_1\"\n",
            "_________________________________________________________________\n",
            " Layer (type)                Output Shape              Param #   \n",
            "=================================================================\n",
            " conv2d_3 (Conv2D)           (None, 30, 30, 32)        896       \n",
            "                                                                 \n",
            " max_pooling2d_3 (MaxPoolin  (None, 15, 15, 32)        0         \n",
            " g2D)                                                            \n",
            "                                                                 \n",
            " conv2d_4 (Conv2D)           (None, 13, 13, 64)        18496     \n",
            "                                                                 \n",
            " max_pooling2d_4 (MaxPoolin  (None, 6, 6, 64)          0         \n",
            " g2D)                                                            \n",
            "                                                                 \n",
            " conv2d_5 (Conv2D)           (None, 4, 4, 128)         73856     \n",
            "                                                                 \n",
            " max_pooling2d_5 (MaxPoolin  (None, 2, 2, 128)         0         \n",
            " g2D)                                                            \n",
            "                                                                 \n",
            " flatten_1 (Flatten)         (None, 512)               0         \n",
            "                                                                 \n",
            " dense_2 (Dense)             (None, 64)                32832     \n",
            "                                                                 \n",
            " dense_3 (Dense)             (None, 10)                650       \n",
            "                                                                 \n",
            "=================================================================\n",
            "Total params: 126730 (495.04 KB)\n",
            "Trainable params: 126730 (495.04 KB)\n",
            "Non-trainable params: 0 (0.00 Byte)\n",
            "_________________________________________________________________\n",
            "Epoch 1/10\n",
            "938/938 [==============================] - 6s 4ms/step - loss: 2.1210 - accuracy: 0.2013\n",
            "Epoch 2/10\n",
            "938/938 [==============================] - 4s 4ms/step - loss: 1.7994 - accuracy: 0.3448\n",
            "Epoch 3/10\n",
            "938/938 [==============================] - 4s 4ms/step - loss: 1.6476 - accuracy: 0.4067\n",
            "Epoch 4/10\n",
            "938/938 [==============================] - 4s 4ms/step - loss: 1.5509 - accuracy: 0.4380\n",
            "Epoch 5/10\n",
            "938/938 [==============================] - 4s 4ms/step - loss: 1.4793 - accuracy: 0.4671\n",
            "Epoch 6/10\n",
            "938/938 [==============================] - 4s 4ms/step - loss: 1.4326 - accuracy: 0.4832\n",
            "Epoch 7/10\n",
            "938/938 [==============================] - 6s 6ms/step - loss: 1.3863 - accuracy: 0.5028\n",
            "Epoch 8/10\n",
            "938/938 [==============================] - 5s 5ms/step - loss: 1.3422 - accuracy: 0.5199\n",
            "Epoch 9/10\n",
            "938/938 [==============================] - 5s 5ms/step - loss: 1.3107 - accuracy: 0.5294\n",
            "Epoch 10/10\n",
            "938/938 [==============================] - 4s 4ms/step - loss: 1.2728 - accuracy: 0.5437\n"
          ]
        },
        {
          "output_type": "execute_result",
          "data": {
            "text/plain": [
              "<keras.src.callbacks.History at 0x7f9b006506d0>"
            ]
          },
          "metadata": {},
          "execution_count": 7
        }
      ]
    },
    {
      "cell_type": "markdown",
      "source": [
        "# **Accuracy on sigmoid  dataset**\n",
        "\n",
        "\n"
      ],
      "metadata": {
        "id": "XlpirdrW8s-Z"
      }
    },
    {
      "cell_type": "code",
      "source": [
        "test_loss, test_acc = sigmoid_model.evaluate(test_images, test_labels)\n",
        "print(f\"Test accuracy of sigmoid model: {test_acc:.4f}\")\n"
      ],
      "metadata": {
        "colab": {
          "base_uri": "https://localhost:8080/"
        },
        "id": "qCVN3hWf7x1i",
        "outputId": "890a5559-d02a-4883-8f07-182bfccfef6f"
      },
      "execution_count": null,
      "outputs": [
        {
          "output_type": "stream",
          "name": "stdout",
          "text": [
            "313/313 [==============================] - 1s 3ms/step - loss: 1.2156 - accuracy: 0.5716\n",
            "Test accuracy of sigmoid model: 0.5716\n"
          ]
        }
      ]
    },
    {
      "cell_type": "markdown",
      "source": [
        "# **Accuracy on Additinal  dataset**"
      ],
      "metadata": {
        "id": "X4PXt29J8ycy"
      }
    },
    {
      "cell_type": "code",
      "source": [
        "import numpy as np\n",
        "additional_test_data = np.load('test_additional.npy')\n",
        "additional_test_labels = np.load('labels.npy')\n",
        "\n",
        "additional_test_data=additional_test_data/255.0\n",
        "test_loss, test_acc = relu_model.evaluate(additional_test_data, additional_test_labels)\n",
        "print(f\"Test accuracy on additional datasetfor relu activation model {test_acc:.4f}\")\n",
        "\n",
        "test_loss, test_acc = sigmoid_model.evaluate(additional_test_data, additional_test_labels)\n",
        "print(f\"Test accuracy on additional dataset for sigmoid activation model: {test_acc:.4f}\")"
      ],
      "metadata": {
        "colab": {
          "base_uri": "https://localhost:8080/"
        },
        "id": "EVMXNocV7x9B",
        "outputId": "7509f19c-d90e-4346-e758-36eccbeba530"
      },
      "execution_count": null,
      "outputs": [
        {
          "output_type": "stream",
          "name": "stdout",
          "text": [
            "313/313 [==============================] - 1s 2ms/step - loss: 1.2655 - accuracy: 0.5986\n",
            "Test accuracy on additional datasetfor relu activation model 0.5986\n",
            "313/313 [==============================] - 1s 3ms/step - loss: 1.3517 - accuracy: 0.5155\n",
            "Test accuracy on additional dataset for sigmoid activation model: 0.5155\n"
          ]
        }
      ]
    },
    {
      "cell_type": "code",
      "execution_count": null,
      "metadata": {
        "id": "qgYHMp0762Qe"
      },
      "outputs": [],
      "source": []
    }
  ],
  "metadata": {
    "colab": {
      "provenance": [],
      "gpuType": "T4"
    },
    "kernelspec": {
      "display_name": "Python 3",
      "name": "python3"
    },
    "language_info": {
      "name": "python"
    },
    "accelerator": "GPU"
  },
  "nbformat": 4,
  "nbformat_minor": 0
}